{
 "cells": [
  {
   "cell_type": "markdown",
   "id": "7c634638",
   "metadata": {},
   "source": [
    "# SAN FRANCISCO CRIME GEOGRAPHICAL CLUSTERING PROJECT\n",
    "\n",
    "In this lecture, we will perform geographic clustering using the San Francisco crime dataset on Kaggle. You can download the dataset from Kaggle: https://www.kaggle.com/c/sf-crime/data\n",
    "Please download only train.csv.zip file and unzip the file to the same directory with this Python source code..\n",
    "\n",
    "The operation steps for this project is as follows:\n",
    "\n",
    "1. Import libraries and prepare the dataset.\n",
    "2. Decide how many clusters we will have using Elbow Method (We will find K value).\n",
    "3. Build the model and perform the clustering operation using K-Means Machine Learning algorithm.\n",
    "4. Visualize our clustering results on well known geographic map system (OpenStreetMap)\n",
    "5. Finally we will export our resulting geographic map into a html file so that it can be in any web site easily.\n",
    "\n",
    "For all the above tasks including geographic map drawing we will use only Python ! Before starting to our project you should install plotly Python library to your Anaconda 3 environment. # You can install plotly to your Anaconda Environment using the following command from Anaconda prompt:\n",
    "\n",
    "conda install plotly\n"
   ]
  },
  {
   "cell_type": "markdown",
   "id": "ebf3e45e",
   "metadata": {},
   "source": [
    "## STEP 1. Import libraries and prepare the dataset"
   ]
  },
  {
   "cell_type": "code",
   "execution_count": null,
   "id": "17339c5e",
   "metadata": {},
   "outputs": [],
   "source": [
    "from sklearn.cluster import KMeans\n",
    "import pandas as pd\n",
    "from sklearn.preprocessing import MinMaxScaler\n",
    "\n",
    "\n",
    "# You can download the dataset from Kaggle: https://www.kaggle.com/c/sf-crime/data\n",
    "# Please download only train.csv.zip file and unzip the file to the same directory with this Python source code..\n",
    "df = pd.read_csv(\"train.csv\")\n",
    "df.head()"
   ]
  },
  {
   "cell_type": "code",
   "execution_count": null,
   "id": "cb84345c",
   "metadata": {},
   "outputs": [],
   "source": [
    "# Dropping unnecessary columns PdDistrict, PdDistrict since we will use only Lat, Lng for Clustering..\n",
    "# Also dropping Resolution, Descript,.. for we dont need them for clustering \n",
    "\n",
    "df = df.drop(['PdDistrict', 'Address', 'Resolution', 'Descript', 'DayOfWeek'], axis = 1) # axis = 1 for column drop, 0 for row drop..\n"
   ]
  },
  {
   "cell_type": "code",
   "execution_count": null,
   "id": "96fa1e1c",
   "metadata": {},
   "outputs": [],
   "source": [
    "df.tail(5)"
   ]
  },
  {
   "cell_type": "code",
   "execution_count": null,
   "id": "a7791b5b",
   "metadata": {},
   "outputs": [],
   "source": [
    "# We have no null data see:\n",
    "df.isnull().sum()"
   ]
  },
  {
   "cell_type": "markdown",
   "id": "2328c558",
   "metadata": {},
   "source": [
    "### This dataset contains information from 2003 to 2015. We will use only data in year 2014. \n",
    "\n",
    "For this purpose we will perform year filtering operation now.."
   ]
  },
  {
   "cell_type": "code",
   "execution_count": null,
   "id": "26a67548",
   "metadata": {},
   "outputs": [],
   "source": [
    "# For year filtering operation..\n",
    "\n",
    "f = lambda x: (x[\"Dates\"].split())[0] \n",
    "df[\"Dates\"] = df.apply(f, axis=1)\n",
    "df.head()"
   ]
  },
  {
   "cell_type": "code",
   "execution_count": null,
   "id": "8beeacdf",
   "metadata": {},
   "outputs": [],
   "source": [
    "f = lambda x: (x[\"Dates\"].split('-'))[0] \n",
    "df[\"Dates\"] = df.apply(f, axis=1)\n",
    "df.head()"
   ]
  },
  {
   "cell_type": "code",
   "execution_count": null,
   "id": "011114b5",
   "metadata": {},
   "outputs": [],
   "source": [
    "df.tail()"
   ]
  },
  {
   "cell_type": "code",
   "execution_count": null,
   "id": "4e755159",
   "metadata": {},
   "outputs": [],
   "source": [
    "# Categorize dataset by year otherwise too long to process.. \n",
    "# We will use only year 2014 values for this project, but you can change this easily if you want..\n",
    "df_2014 = df[(df.Dates == '2014')]\n",
    "df_2014.head()\n"
   ]
  },
  {
   "cell_type": "code",
   "execution_count": null,
   "id": "6269e561",
   "metadata": {},
   "outputs": [],
   "source": [
    "# We scale the data for accurate results...\n",
    "scaler = MinMaxScaler()\n",
    "\n",
    "# Y is latitude and X is longitude... \n",
    "# Any location in Earth can be described using Latitude and Longitude geographics coordinate values.\n",
    "\n",
    "scaler.fit(df_2014[['X']])\n",
    "df_2014['X_scaled'] = scaler.transform(df_2014[['X']]) \n",
    "\n",
    "scaler.fit(df_2014[['Y']])\n",
    "df_2014['Y_scaled'] = scaler.transform(df_2014[['Y']])\n",
    "\n",
    "# Please notice we have stored scaled values in new columns (X_scaled and Y_scaled), since we will use original values \n",
    "# in geographic operations later.."
   ]
  },
  {
   "cell_type": "code",
   "execution_count": null,
   "id": "9ad7c573",
   "metadata": {},
   "outputs": [],
   "source": [
    "df_2014.head()"
   ]
  },
  {
   "cell_type": "markdown",
   "id": "b5fb9967",
   "metadata": {},
   "source": [
    "## STEP 2. Decide how many clusters we will have using Elbow Method (We will find K value).\n",
    "\n",
    "K is a hyper-parameter (designer must have decide the value of K). Here K is the number of clusters, we tell the model how many clusters we want. \n",
    "\n",
    "But how can we decide the value of K ? Don't worry, there is a method called Elbow Method for defining hyper parameter K...\n",
    "\n",
    "For this purpose we will use The Elbow Method, try K values from 1 to 15, and find the best K value.\n"
   ]
  },
  {
   "cell_type": "code",
   "execution_count": null,
   "id": "7858c179",
   "metadata": {},
   "outputs": [],
   "source": [
    "k_range = range(1,15)\n",
    "\n",
    "list_dist = []\n",
    "\n",
    "for k in k_range:\n",
    "    model = KMeans(n_clusters=k)\n",
    "    model.fit(df_2014[['X_scaled','Y_scaled']])\n",
    "    list_dist.append(model.inertia_)"
   ]
  },
  {
   "cell_type": "code",
   "execution_count": null,
   "id": "67f797fb",
   "metadata": {},
   "outputs": [],
   "source": [
    "from matplotlib import pyplot as plt\n",
    "\n",
    "plt.xlabel('K')\n",
    "plt.ylabel('Distortion value (inertia)')\n",
    "plt.plot(k_range,list_dist)\n",
    "plt.show()"
   ]
  },
  {
   "cell_type": "markdown",
   "id": "e01a8eeb",
   "metadata": {},
   "source": [
    "#### Using Elbow method I decided to use K = 5 in my model..."
   ]
  },
  {
   "cell_type": "markdown",
   "id": "ca528fd2",
   "metadata": {},
   "source": [
    "## STEP 3. Build the model and perform the clustering operation using K-Means Machine Learning algorithm"
   ]
  },
  {
   "cell_type": "code",
   "execution_count": null,
   "id": "263caddd",
   "metadata": {},
   "outputs": [],
   "source": [
    "# Let's build a K-Means model for K = 5:\n",
    "model = KMeans(n_clusters=5)\n",
    "y_predicted = model.fit_predict(df_2014[['X_scaled','Y_scaled']])\n",
    "y_predicted"
   ]
  },
  {
   "cell_type": "code",
   "execution_count": null,
   "id": "ba488e78",
   "metadata": {},
   "outputs": [],
   "source": [
    "df_2014['cluster'] = y_predicted\n",
    "df_2014"
   ]
  },
  {
   "cell_type": "markdown",
   "id": "8ab50e8a",
   "metadata": {},
   "source": [
    "## STEP 4. Visualize our clustering results \n",
    "## Geographical Map Building using our Machine Learning model results..."
   ]
  },
  {
   "cell_type": "code",
   "execution_count": null,
   "id": "f398f80a",
   "metadata": {},
   "outputs": [],
   "source": [
    "# For Geographical Map Drawing we will use plotly library. \n",
    "# You can install plotly to your Anaconda Environment using the following command from Anaconda prompt:\n",
    "# conda install plotly\n",
    "\n",
    "import plotly.express as px   # You can install plotly module with: \"conda install plotly\" in Anaconda prompt.. "
   ]
  },
  {
   "cell_type": "code",
   "execution_count": null,
   "id": "5affeeb1",
   "metadata": {},
   "outputs": [],
   "source": [
    "# Don't forget Y is latiutude and X is longitude...\n",
    "figure = px.scatter_mapbox(df_2014, lat='Y', lon='X',                       \n",
    "                       center = dict(lat = 37.8, lon = -122.4), # This is the coordinate of San Francisco..\n",
    "                       zoom = 9,                                # Zoom of the map\n",
    "                       opacity = .9,                           # opacity of the map a value between 0 and 1..\n",
    "                       mapbox_style = 'stamen-terrain',       # basemap \n",
    "                       color = 'cluster',                      # Map will draw scatter colors according to cluster number..\n",
    "                       title = 'San Francisco Crime Districts',\n",
    "                       width = 1100,\n",
    "                       height = 700,                     \n",
    "                       hover_data = ['cluster', 'Category', 'Y', 'X']\n",
    "                       )\n",
    "\n",
    "figure.show()\n"
   ]
  },
  {
   "cell_type": "markdown",
   "id": "31abdc47",
   "metadata": {},
   "source": [
    "## STEP 5. Finally we will export our resulting geographic map into a html file so that it can be used in any web site easily"
   ]
  },
  {
   "cell_type": "code",
   "execution_count": null,
   "id": "f476b724",
   "metadata": {},
   "outputs": [],
   "source": [
    "import plotly\n",
    "plotly.offline.plot(figure, filename = 'maptest.html', auto_open = True)"
   ]
  },
  {
   "cell_type": "code",
   "execution_count": null,
   "id": "279eeec3",
   "metadata": {},
   "outputs": [],
   "source": [
    "# if you want to use another basemap or use other methods of plotly you can get info using help(px.scatter_mapbox):\n",
    "help(px.scatter_mapbox)"
   ]
  },
  {
   "cell_type": "code",
   "execution_count": null,
   "id": "b0d3334e",
   "metadata": {},
   "outputs": [],
   "source": []
  },
  {
   "cell_type": "code",
   "execution_count": null,
   "id": "e4da42d6",
   "metadata": {},
   "outputs": [],
   "source": []
  },
  {
   "cell_type": "code",
   "execution_count": null,
   "id": "3323b5f2",
   "metadata": {},
   "outputs": [],
   "source": []
  },
  {
   "cell_type": "code",
   "execution_count": null,
   "id": "09a7fd1b",
   "metadata": {},
   "outputs": [],
   "source": []
  }
 ],
 "metadata": {
  "kernelspec": {
   "display_name": "Python 3",
   "language": "python",
   "name": "python3"
  },
  "language_info": {
   "codemirror_mode": {
    "name": "ipython",
    "version": 3
   },
   "file_extension": ".py",
   "mimetype": "text/x-python",
   "name": "python",
   "nbconvert_exporter": "python",
   "pygments_lexer": "ipython3",
   "version": "3.8.8"
  }
 },
 "nbformat": 4,
 "nbformat_minor": 5
}
