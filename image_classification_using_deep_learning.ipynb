{
 "cells": [
  {
   "cell_type": "markdown",
   "id": "4cd493bf",
   "metadata": {},
   "source": [
    "# Recognition & Classification of Images using Deep Learning Algorithms\n",
    "\n",
    "    \n",
    "    "
   ]
  },
  {
   "cell_type": "code",
   "execution_count": 1,
   "id": "bf4a0b66",
   "metadata": {},
   "outputs": [],
   "source": [
    "# We start coding by importing our libraries..\n",
    "import tensorflow as tf\n",
    "from tensorflow.keras import datasets, layers, models\n",
    "import pandas as pd\n",
    "import numpy as np\n",
    "import matplotlib.pyplot as plt\n"
   ]
  },
  {
   "cell_type": "markdown",
   "id": "f246b014",
   "metadata": {},
   "source": [
    "#### We load our CIFAR10 dataset"
   ]
  },
  {
   "cell_type": "code",
   "execution_count": null,
   "id": "7c7e954a",
   "metadata": {},
   "outputs": [
    {
     "name": "stdout",
     "output_type": "stream",
     "text": [
      "Downloading data from https://www.cs.toronto.edu/~kriz/cifar-10-python.tar.gz\n",
      "142458880/170498071 [========================>.....] - ETA: 35s"
     ]
    }
   ],
   "source": [
    "(X_train, y_train), (X_test,y_test) = datasets.cifar10.load_data()\n"
   ]
  },
  {
   "cell_type": "code",
   "execution_count": null,
   "id": "46e28c2f",
   "metadata": {},
   "outputs": [],
   "source": [
    "X_train.shape"
   ]
  },
  {
   "cell_type": "markdown",
   "id": "ec46f9bc",
   "metadata": {},
   "source": [
    "#### Our array is like this because each photo has a square size of 32 pixels-32 pixels and has 3 channel RGB information in color.\n",
    "\n",
    "<IMG src=\"cifar10_images.jpg\" width=\"400\" height=\"400\">\n"
   ]
  },
  {
   "cell_type": "code",
   "execution_count": null,
   "id": "ce8f44c1",
   "metadata": {},
   "outputs": [],
   "source": [
    "X_test.shape"
   ]
  },
  {
   "cell_type": "code",
   "execution_count": null,
   "id": "422376c2",
   "metadata": {},
   "outputs": [],
   "source": [
    "y_train[:3]"
   ]
  },
  {
   "cell_type": "markdown",
   "id": "72e20cba",
   "metadata": {},
   "source": [
    "y_train and y_test are kept as a 2-dimensional array in the cifar10 dataset.\n",
    "We make this data one-dimensional to understand it visually more easily.\n",
    "We use reshape() to make a 2-dimensional array one-dimensional."
   ]
  },
  {
   "cell_type": "code",
   "execution_count": null,
   "id": "a26829fa",
   "metadata": {},
   "outputs": [],
   "source": [
    "y_test = y_test.reshape(-1,)"
   ]
  },
  {
   "cell_type": "code",
   "execution_count": null,
   "id": "922962d4",
   "metadata": {},
   "outputs": [],
   "source": [
    "y_test "
   ]
  },
  {
   "cell_type": "markdown",
   "id": "59b4660e",
   "metadata": {},
   "source": [
    "#### Let's take a look at the data. for this purpose we create an array ourselves:"
   ]
  },
  {
   "cell_type": "code",
   "execution_count": null,
   "id": "3b5c6bb2",
   "metadata": {},
   "outputs": [],
   "source": [
    "image_classes = [\"airplane\",\"automobile\",\"bird\",\"cat\",\"deer\",\"dog\",\"frog\",\"horse\",\"ship\",\"truck\"]"
   ]
  },
  {
   "cell_type": "code",
   "execution_count": null,
   "id": "1a8a38fc",
   "metadata": {},
   "outputs": [],
   "source": [
    "def plot_sample(X, y, index):\n",
    "    plt.figure(figsize = (15,2))\n",
    "    plt.imshow(X[index])        \n",
    "    plt.xlabel(image_classes[y[index]])\n",
    "    plt.show()\n"
   ]
  },
  {
   "cell_type": "code",
   "execution_count": null,
   "id": "a065b909",
   "metadata": {},
   "outputs": [],
   "source": [
    "plot_sample(X_test, y_test, 0)"
   ]
  },
  {
   "cell_type": "code",
   "execution_count": null,
   "id": "8dee36fa",
   "metadata": {},
   "outputs": [],
   "source": [
    "plot_sample(X_test, y_test, 1)"
   ]
  },
  {
   "cell_type": "code",
   "execution_count": null,
   "id": "5242f30a",
   "metadata": {},
   "outputs": [],
   "source": [
    "plot_sample(X_test, y_test, 3)"
   ]
  },
  {
   "cell_type": "markdown",
   "id": "f76d165b",
   "metadata": {},
   "source": [
    "### Normalization\n",
    "\n",
    "We need to normalize our data. Otherwise, CNN algorithms may give wrong results. Since the photos have 3 channels in RGB and each pixel has a value between 0-255, it is enough to simply divide each pixel value by 255 for normalization."
   ]
  },
  {
   "cell_type": "code",
   "execution_count": null,
   "id": "f03a46da",
   "metadata": {},
   "outputs": [],
   "source": [
    "X_train = X_train / 255\n",
    "X_test = X_test / 255"
   ]
  },
  {
   "cell_type": "markdown",
   "id": "9c65da4c",
   "metadata": {},
   "source": [
    "### We are designing our Deep Learning Algorithm using Convolutional Neural Network:"
   ]
  },
  {
   "cell_type": "markdown",
   "id": "b7c5c469",
   "metadata": {},
   "source": [
    "<IMG src=\"deep7.png\" width=\"800\" height=\"400\">"
   ]
  },
  {
   "cell_type": "code",
   "execution_count": null,
   "id": "7ad227c3",
   "metadata": {},
   "outputs": [],
   "source": [
    "deep_learning_model = models.Sequential([\n",
    "    # The first part is the Convolution layer..\n",
    "    # In this part, we extract the features from the photos to be able to identify them...\n",
    "    layers.Conv2D(filters=32, kernel_size=(3, 3), activation='relu', input_shape=(32, 32, 3)),\n",
    "    layers.MaxPooling2D((2, 2)),\n",
    "    \n",
    "    layers.Conv2D(filters=64, kernel_size=(3, 3), activation='relu'),\n",
    "    layers.MaxPooling2D((2, 2)),\n",
    "    \n",
    "    # The second part is a classical Articial Neural Network layer.\n",
    "    # We will train our ANN model according to the above features and training information.\n",
    "    layers.Flatten(),\n",
    "    layers.Dense(64, activation='relu'),\n",
    "    layers.Dense(10, activation='softmax')\n",
    "])"
   ]
  },
  {
   "cell_type": "code",
   "execution_count": null,
   "id": "ea797643",
   "metadata": {},
   "outputs": [],
   "source": [
    "deep_learning_model.compile(optimizer='adam',\n",
    "              loss='sparse_categorical_crossentropy',\n",
    "              metrics=['accuracy'])"
   ]
  },
  {
   "cell_type": "markdown",
   "id": "07e7456e",
   "metadata": {},
   "source": [
    "### Let's start training our model now..."
   ]
  },
  {
   "cell_type": "code",
   "execution_count": null,
   "id": "758a9635",
   "metadata": {},
   "outputs": [],
   "source": [
    "deep_learning_model.fit(X_train, y_train, epochs=5)"
   ]
  },
  {
   "cell_type": "code",
   "execution_count": null,
   "id": "16b3d698",
   "metadata": {},
   "outputs": [],
   "source": [
    "deep_learning_model.evaluate(X_test,y_test)"
   ]
  },
  {
   "cell_type": "code",
   "execution_count": null,
   "id": "daa7b9e1",
   "metadata": {},
   "outputs": [],
   "source": [
    "y_pred = deep_learning_model.predict(X_test)\n",
    "y_pred[:3]"
   ]
  },
  {
   "cell_type": "code",
   "execution_count": null,
   "id": "2e3fa72f",
   "metadata": {},
   "outputs": [],
   "source": [
    "y_predictions_siniflari = [np.argmax(element) for element in y_pred]\n",
    "y_predictions_siniflari[:3]"
   ]
  },
  {
   "cell_type": "code",
   "execution_count": null,
   "id": "86a95599",
   "metadata": {},
   "outputs": [],
   "source": [
    "y_test[:3]"
   ]
  },
  {
   "cell_type": "code",
   "execution_count": null,
   "id": "e6da0a7b",
   "metadata": {},
   "outputs": [],
   "source": [
    "plot_sample(X_test, y_test,0)"
   ]
  },
  {
   "cell_type": "code",
   "execution_count": null,
   "id": "ce1c9d65",
   "metadata": {},
   "outputs": [],
   "source": [
    "image_classes[y_predictions_siniflari[0]]"
   ]
  },
  {
   "cell_type": "code",
   "execution_count": null,
   "id": "671acd2a",
   "metadata": {},
   "outputs": [],
   "source": [
    "plot_sample(X_test, y_test,1)"
   ]
  },
  {
   "cell_type": "code",
   "execution_count": null,
   "id": "ccb8fffa",
   "metadata": {},
   "outputs": [],
   "source": [
    "image_classes[y_predictions_siniflari[1]]"
   ]
  },
  {
   "cell_type": "code",
   "execution_count": null,
   "id": "65effc16",
   "metadata": {},
   "outputs": [],
   "source": [
    "plot_sample(X_test, y_test,2)"
   ]
  },
  {
   "cell_type": "code",
   "execution_count": null,
   "id": "1368787b",
   "metadata": {},
   "outputs": [],
   "source": [
    "image_classes[y_predictions_siniflari[2]]"
   ]
  },
  {
   "cell_type": "code",
   "execution_count": null,
   "id": "b4b41878",
   "metadata": {},
   "outputs": [],
   "source": []
  },
  {
   "cell_type": "code",
   "execution_count": null,
   "id": "69622891",
   "metadata": {},
   "outputs": [],
   "source": [
    "plot_sample(X_test, y_test,12)"
   ]
  },
  {
   "cell_type": "code",
   "execution_count": null,
   "id": "debfb713",
   "metadata": {},
   "outputs": [],
   "source": [
    "image_classes[y_predictions_siniflari[12]]"
   ]
  },
  {
   "cell_type": "code",
   "execution_count": null,
   "id": "79b55f2b",
   "metadata": {},
   "outputs": [],
   "source": []
  },
  {
   "cell_type": "code",
   "execution_count": null,
   "id": "5f9660db",
   "metadata": {},
   "outputs": [],
   "source": []
  }
 ],
 "metadata": {
  "kernelspec": {
   "display_name": "Python 3 (ipykernel)",
   "language": "python",
   "name": "python3"
  },
  "language_info": {
   "codemirror_mode": {
    "name": "ipython",
    "version": 3
   },
   "file_extension": ".py",
   "mimetype": "text/x-python",
   "name": "python",
   "nbconvert_exporter": "python",
   "pygments_lexer": "ipython3",
   "version": "3.9.12"
  }
 },
 "nbformat": 4,
 "nbformat_minor": 5
}
