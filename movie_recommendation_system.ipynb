{
 "cells": [
  {
   "cell_type": "markdown",
   "id": "025e36d6",
   "metadata": {},
   "source": [
    "# Building a Movie Recommendation System \n",
    "\n",
    "\n",
    "\n",
    "In this project we will use well known Movielens 100k dataset.\n",
    "You can download the dataset from Kaggle from the link below:\n",
    "https://www.kaggle.com/imkushwaha/movielens-100k-dataset\n",
    "\n",
    "You must download only 2 files from this repository:\n",
    "\n",
    "u.item\n",
    "u.data\n",
    "u.item : Contains information about movies (movie id and name) u.data : Contains information about user reviews..\n",
    "\n"
   ]
  },
  {
   "cell_type": "markdown",
   "id": "ebff6380",
   "metadata": {},
   "source": [
    "\n",
    "<IMG src=\"s.jpg\" width=\"250\" height=\"350\" >"
   ]
  },
  {
   "cell_type": "code",
   "execution_count": null,
   "id": "4b752744",
   "metadata": {},
   "outputs": [],
   "source": [
    "import pandas as pd"
   ]
  },
  {
   "cell_type": "code",
   "execution_count": null,
   "id": "ecb8f3ce",
   "metadata": {},
   "outputs": [],
   "source": [
    "column_names = ['user_id', 'item_id', 'rating', 'timestamp']\n",
    "df = pd.read_csv('u.data', sep='\\t', names=column_names) #You can download the dataset(u.data and u.item) from Kaggle from the link: https://www.kaggle.com/imkushwaha/movielens-100k-dataset"
   ]
  },
  {
   "cell_type": "code",
   "execution_count": null,
   "id": "345eda08",
   "metadata": {},
   "outputs": [],
   "source": [
    "df.head()\n"
   ]
  },
  {
   "cell_type": "code",
   "execution_count": null,
   "id": "2bdfea9b",
   "metadata": {},
   "outputs": [],
   "source": [
    "# Let's see how many records we have:\n",
    "len(df)"
   ]
  },
  {
   "cell_type": "markdown",
   "id": "db580768",
   "metadata": {},
   "source": [
    "### Now import u.item file:"
   ]
  },
  {
   "cell_type": "code",
   "execution_count": null,
   "id": "c8ff2270",
   "metadata": {},
   "outputs": [],
   "source": [
    "\n",
    "m_cols = ['item_id', 'title']\n",
    "movie_titles = pd.read_csv('u.item', sep='|', names=m_cols, usecols=range(2))\n",
    "movie_titles.head()"
   ]
  },
  {
   "cell_type": "code",
   "execution_count": null,
   "id": "80a0a2f5",
   "metadata": {},
   "outputs": [],
   "source": [
    "# Let's see how many records we have:\n",
    "\n",
    "len(movie_titles)"
   ]
  },
  {
   "cell_type": "code",
   "execution_count": null,
   "id": "b13d8018",
   "metadata": {},
   "outputs": [],
   "source": [
    "# Now lets merge u.data and u.item files based on item_id\n",
    "df = pd.merge(df, movie_titles, on='item_id')\n",
    "df.head()"
   ]
  },
  {
   "cell_type": "markdown",
   "id": "f6f63aaf",
   "metadata": {},
   "source": [
    "### We Are Setting Up Our Recommendation System:\n"
   ]
  },
  {
   "cell_type": "code",
   "execution_count": null,
   "id": "171704d5",
   "metadata": {},
   "outputs": [],
   "source": [
    "# First, we set up a pivot table-like structure in Excel.\n",
    "# According to this structure, each row will be a user (ie the index of our dataframe will be user_id)\n",
    "# There will be movie names in the columns,\n",
    "# We create a dataframe with rating values in the table!\n",
    "\n",
    "moviepivot = df.pivot_table(index='user_id',columns='title',values='rating')\n",
    "moviepivot.head()"
   ]
  },
  {
   "cell_type": "code",
   "execution_count": null,
   "id": "fe771138",
   "metadata": {},
   "outputs": [],
   "source": [
    "type(moviepivot)"
   ]
  },
  {
   "cell_type": "markdown",
   "id": "9c5e6a13",
   "metadata": {},
   "source": [
    "### Purpose: Making movie suggestions similar to Starwars movie"
   ]
  },
  {
   "cell_type": "markdown",
   "id": "90b62e0d",
   "metadata": {},
   "source": [
    "Let's take a look at the user ratings of Star Wars (1977):"
   ]
  },
  {
   "cell_type": "code",
   "execution_count": null,
   "id": "21a4073d",
   "metadata": {},
   "outputs": [],
   "source": [
    "starwars_user_ratings = moviepivot['Star Wars (1977)']\n",
    "starwars_user_ratings.head()"
   ]
  },
  {
   "cell_type": "markdown",
   "id": "06e1c71c",
   "metadata": {},
   "source": [
    "Let's calculate the correlations with the Star wars movie using the corrwith() method:"
   ]
  },
  {
   "cell_type": "code",
   "execution_count": null,
   "id": "adebf4e1",
   "metadata": {},
   "outputs": [],
   "source": [
    "similar_to_starwars = moviepivot.corrwith(starwars_user_ratings)\n"
   ]
  },
  {
   "cell_type": "code",
   "execution_count": null,
   "id": "6a8b5b66",
   "metadata": {},
   "outputs": [],
   "source": [
    "similar_to_starwars"
   ]
  },
  {
   "cell_type": "code",
   "execution_count": null,
   "id": "7205dcc9",
   "metadata": {},
   "outputs": [],
   "source": [
    "type(similar_to_starwars)"
   ]
  },
  {
   "cell_type": "markdown",
   "id": "52df8a6b",
   "metadata": {},
   "source": [
    "#### It throws a warning because some records have spaces, let's convert it to a dataframe named corr_starwars and clear the NaN records and see:"
   ]
  },
  {
   "cell_type": "code",
   "execution_count": null,
   "id": "3463a11e",
   "metadata": {},
   "outputs": [],
   "source": [
    "corr_starwars = pd.DataFrame(similar_to_starwars, columns=['Correlation'])\n",
    "corr_starwars.dropna(inplace=True)\n",
    "corr_starwars.head()"
   ]
  },
  {
   "cell_type": "markdown",
   "id": "ea11c13c",
   "metadata": {},
   "source": [
    "### Let's list the dataframe we obtained and see what is the closest movie it would recommend:"
   ]
  },
  {
   "cell_type": "code",
   "execution_count": null,
   "id": "d3306021",
   "metadata": {},
   "outputs": [],
   "source": [
    "corr_starwars.sort_values('Correlation',ascending=False).head(10)"
   ]
  },
  {
   "cell_type": "markdown",
   "id": "cb6497c2",
   "metadata": {},
   "source": [
    "#### As you can see, there are irrelevant results. When you do a little research on this subject, you will find that the reason for this is because these films received very few votes. To correct this situation, let's eliminate the films that received less than 100 votes. Let's keep the votes (ie the number of votes)..."
   ]
  },
  {
   "cell_type": "code",
   "execution_count": null,
   "id": "18f6faca",
   "metadata": {},
   "outputs": [],
   "source": [
    "df.head()"
   ]
  },
  {
   "cell_type": "markdown",
   "id": "69af2c31",
   "metadata": {},
   "source": [
    "We don't need timestamp column, so drop it.."
   ]
  },
  {
   "cell_type": "code",
   "execution_count": null,
   "id": "9949b6f6",
   "metadata": {},
   "outputs": [],
   "source": [
    "df.drop(['timestamp'], axis = 1)"
   ]
  },
  {
   "cell_type": "code",
   "execution_count": null,
   "id": "73444780",
   "metadata": {},
   "outputs": [],
   "source": [
    "# Let's find the mean value rating of each movie\n",
    "ratings = pd.DataFrame(df.groupby('title')['rating'].mean())\n",
    "\n",
    "# Let's sort them from high to low...\n",
    "ratings.sort_values('rating',ascending=False).head()\n"
   ]
  },
  {
   "cell_type": "markdown",
   "id": "fa852b2a",
   "metadata": {},
   "source": [
    "#### Attention: While calculating these averages, we did not look at how many votes it received, so there were movies like this that we did not know at all.."
   ]
  },
  {
   "cell_type": "code",
   "execution_count": null,
   "id": "83718c4e",
   "metadata": {},
   "outputs": [],
   "source": [
    "# Now let's find the number of votes each movie received.\n",
    "ratings['rating_count'] = pd.DataFrame(df.groupby('title')['rating'].count())\n",
    "ratings.head()"
   ]
  },
  {
   "cell_type": "code",
   "execution_count": null,
   "id": "93de23b5",
   "metadata": {},
   "outputs": [],
   "source": [
    "# Now let's sort the movies with the most votes, from largest to smallest...\n",
    "ratings.sort_values('rating_count',ascending=False).head()\n"
   ]
  },
  {
   "cell_type": "code",
   "execution_count": null,
   "id": "e32263eb",
   "metadata": {},
   "outputs": [],
   "source": [
    "# Let's go back to our main goal and add the rating_count column to our corr_starwars dataframe (with join)"
   ]
  },
  {
   "cell_type": "code",
   "execution_count": null,
   "id": "84ea560d",
   "metadata": {},
   "outputs": [],
   "source": [
    "corr_starwars.sort_values('Correlation',ascending=False).head(10)"
   ]
  },
  {
   "cell_type": "code",
   "execution_count": null,
   "id": "eac26855",
   "metadata": {},
   "outputs": [],
   "source": [
    "corr_starwars = corr_starwars.join(ratings['rating_count'])\n",
    "corr_starwars.head()"
   ]
  },
  {
   "cell_type": "markdown",
   "id": "d948adf6",
   "metadata": {},
   "source": [
    "### And the result:"
   ]
  },
  {
   "cell_type": "code",
   "execution_count": null,
   "id": "9e6fc41d",
   "metadata": {},
   "outputs": [],
   "source": [
    "corr_starwars[corr_starwars['rating_count']>100].sort_values('Correlation',ascending=False).head()"
   ]
  },
  {
   "cell_type": "markdown",
   "id": "860ee775",
   "metadata": {},
   "source": [
    "As a result we have a reasonable movie recommendations for Star Wars movie.. Similarly you can try and see what our system will recommend you for other movies.."
   ]
  },
  {
   "cell_type": "code",
   "execution_count": null,
   "id": "9b9d00ca",
   "metadata": {},
   "outputs": [],
   "source": []
  },
  {
   "cell_type": "code",
   "execution_count": null,
   "id": "772698fc",
   "metadata": {},
   "outputs": [],
   "source": []
  },
  {
   "cell_type": "code",
   "execution_count": null,
   "id": "0d42820a",
   "metadata": {},
   "outputs": [],
   "source": []
  }
 ],
 "metadata": {
  "kernelspec": {
   "display_name": "Python 3 (ipykernel)",
   "language": "python",
   "name": "python3"
  },
  "language_info": {
   "codemirror_mode": {
    "name": "ipython",
    "version": 3
   },
   "file_extension": ".py",
   "mimetype": "text/x-python",
   "name": "python",
   "nbconvert_exporter": "python",
   "pygments_lexer": "ipython3",
   "version": "3.9.12"
  }
 },
 "nbformat": 4,
 "nbformat_minor": 5
}
